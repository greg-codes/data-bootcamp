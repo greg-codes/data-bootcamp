{
   "nbformat" : 4,
   "nbformat_minor" : 0,
   "metadata" : {
      "language_info" : {
         "name" : "python",
         "mimetype" : "text/x-python",
         "nbconvert_exporter" : "python",
         "codemirror_mode" : {
            "version" : 3,
            "name" : "ipython"
         },
         "pygments_lexer" : "ipython3",
         "file_extension" : ".py",
         "version" : "3.5.2"
      },
      "kernelspec" : {
         "display_name" : "Python 3",
         "language" : "python",
         "name" : "python3"
      },
      "org" : null
   },
   "cells" : [
      {
         "source" : [
            "## Import random\n\n"
         ],
         "metadata" : {},
         "cell_type" : "markdown"
      },
      {
         "source" : [
            "Today we generate some data to analyze by creating simulations. First\nwe will define a function which gives the result of a fair coin\ntoss. This uses the package `random` which you can read about in [the\nDocumentation for the Python Standard\nLibrary]([https://docs.python.org/3/library/random.html](https://docs.python.org/3/library/random.html)).\n\n"
         ],
         "cell_type" : "markdown",
         "metadata" : {}
      },
      {
         "execution_count" : 1,
         "metadata" : {},
         "cell_type" : "code",
         "outputs" : [],
         "source" : [
            "# Import the package 'random' with an abbreviation.\nimport random as r"
         ]
      },
      {
         "source" : [
            "The `random` module contains a function (not very creatively) called\n`random` which we can run as follows:\n\n"
         ],
         "metadata" : {},
         "cell_type" : "markdown"
      },
      {
         "outputs" : [],
         "source" : [
            "r.random()"
         ],
         "execution_count" : 1,
         "cell_type" : "code",
         "metadata" : {}
      },
      {
         "cell_type" : "markdown",
         "metadata" : {},
         "source" : [
            "The function generates a &ldquo;random&rdquo; real number.\n\n"
         ]
      },
      {
         "source" : [
            "# recall that range(20) = [0,1,...,19]\nfor j in range(20): \n    print(r.random())"
         ],
         "outputs" : [],
         "metadata" : {},
         "cell_type" : "code",
         "execution_count" : 1
      },
      {
         "source" : [
            "## A simulation of a single coin toss\n\n"
         ],
         "cell_type" : "markdown",
         "metadata" : {}
      },
      {
         "cell_type" : "markdown",
         "metadata" : {},
         "source" : [
            "Now let&rsquo;s use `random` to define a new &rsquo;coin toss&rsquo; function.&ldquo;\n\n"
         ]
      },
      {
         "source" : [
            "def coin():\n    u = r.random()\n    if u < 0.5:\n        return 'H'\n    else:\n        return 'T'"
         ],
         "outputs" : [],
         "metadata" : {},
         "cell_type" : "code",
         "execution_count" : 1
      },
      {
         "source" : [
            "## A simulation of multiple coin tosses\n\n"
         ],
         "metadata" : {},
         "cell_type" : "markdown"
      },
      {
         "cell_type" : "markdown",
         "metadata" : {},
         "source" : [
            "Let&rsquo;s toss the coin 10 times and look at the result.\n\n"
         ]
      },
      {
         "cell_type" : "code",
         "metadata" : {},
         "execution_count" : 1,
         "source" : [
            "for i in range(0, 10):\n    print(coin(), end =' ')"
         ],
         "outputs" : []
      },
      {
         "source" : [
            "The named argument `end=` prevents `print` from printing a newline;\ninstead, we print `' '` after each coin toss.\n\nSince we wish to experiment with randomness, it would be good to have\na function which runs the coin toss experiment several times. The\ninput of our function will be a positive integer and the output will\nbe a string of H&rsquo;s and T&rsquo;s.&ldquo;\n\n"
         ],
         "cell_type" : "markdown",
         "metadata" : {}
      },
      {
         "outputs" : [],
         "source" : [
            "def run_coin(n):\n    # Initialize the output of the function as an empty string\n    result = '' \n    # Loop over the range of n and add the coin toss result to the output each iteration\n    for k in range(n):\n        result = result + coin() \n    return result"
         ],
         "execution_count" : 1,
         "cell_type" : "code",
         "metadata" : {}
      },
      {
         "cell_type" : "markdown",
         "metadata" : {},
         "source" : [
            "## Count the number of heads\n\n"
         ]
      },
      {
         "source" : [
            "****Exercise:**** Write a function `count_heads` whose input is a result\nof the `run_coin` function and whose output is the number of H&rsquo;s in\nthe string.  For instance, `count_heads('HHTHT')` equals 3.\n\n"
         ],
         "cell_type" : "markdown",
         "metadata" : {}
      },
      {
         "metadata" : {},
         "cell_type" : "code",
         "execution_count" : 1,
         "source" : [
            "def count_heads(tosses):\n    raise Exception('You must implement count_heads.')"
         ],
         "outputs" : []
      },
      {
         "source" : [
            "## Is the coin fair?\n\n"
         ],
         "cell_type" : "markdown",
         "metadata" : {}
      },
      {
         "source" : [
            "Suppose that we would like to determine whether the coin we are\ntossing is fair. We could toss it, say, 20 times then count the number\nof heads. Of course, we don&rsquo;t expect to get 10 heads every time we do\nthis, but if we ran this experiment several times then we should\nexpect the average over all experiments to converge to 10.\n\nLet&rsquo;s try it.\n\n"
         ],
         "cell_type" : "markdown",
         "metadata" : {}
      },
      {
         "metadata" : {},
         "cell_type" : "code",
         "execution_count" : 1,
         "source" : [
            "for j in range(10):\n    print(count_heads(run_coin(20)),end = ' ')"
         ],
         "outputs" : []
      },
      {
         "cell_type" : "markdown",
         "metadata" : {},
         "source" : [
            "Looks reasonable, but it&rsquo;s hard to eyeball whether this is actually a\ngood result. Let&rsquo;s write some functions to automate our experiment and\nto analyze it quantitatively.\n\nFirst we write a function to carry out the experiment.  We want to\ntoss the coin `num_tosses` times and repeat this `num_repeats` times.\n\nWe will store our results in a list.\n\n"
         ]
      },
      {
         "execution_count" : 1,
         "metadata" : {},
         "cell_type" : "code",
         "outputs" : [],
         "source" : [
            "def coin_experiment(num_tosses,num_repeats):\n    results = []\n    for j in range(num_repeats):\n        results.append(count_heads(run_coin(num_tosses)))\n    return results\n\ncoin_experiment(20,10)"
         ]
      },
      {
         "cell_type" : "markdown",
         "metadata" : {},
         "source" : [
            "### Finding the mean\n\n"
         ]
      },
      {
         "source" : [
            "Now let&rsquo;s define a function to take the mean of a list.\n\nCertainly such a function already exists in some package, but can you\ndefine it yourself?\n\n"
         ],
         "cell_type" : "markdown",
         "metadata" : {}
      },
      {
         "outputs" : [],
         "source" : [
            "def mean(L):\n    raise Exception('You must implement mean.')\n\nprint(mean([1,2,3,10]),'== 4.0')\nprint(mean([5,10,20,8,13,16]),'== 12')"
         ],
         "execution_count" : 1,
         "metadata" : {},
         "cell_type" : "code"
      },
      {
         "metadata" : {},
         "cell_type" : "markdown",
         "source" : [
            "(Incidentally, you may enjoy playing a bit of **code golf** with your\nneighbors &#x2013; can you make your implementation of `mean` shorter than\nyour neighbor&rsquo;s implementation?)\n\nOnce you have written `mean`, compute the mean of an experiment.\n\n"
         ]
      },
      {
         "cell_type" : "code",
         "metadata" : {},
         "execution_count" : 1,
         "source" : [
            "mean(coin_experiment(20,10))"
         ],
         "outputs" : []
      },
      {
         "source" : [
            "How do you expect the mean of the experiment to behave if we fix the\nnumber of tosses and increase the number of repeats? Vice-versa?  Play\naround with parameters to get an idea for it.\n\n"
         ],
         "metadata" : {},
         "cell_type" : "markdown"
      },
      {
         "metadata" : {},
         "cell_type" : "markdown",
         "source" : [
            "## Visualization\n\n"
         ]
      },
      {
         "metadata" : {},
         "cell_type" : "markdown",
         "source" : [
            "An important part of exploratory data analysis is visualization.\nLet&rsquo;s look at a plot of this data, using a friend we&rsquo;ve already met,\nnamely `matplotlib`.\n\n"
         ]
      },
      {
         "source" : [
            "import matplotlib.pyplot as plt \n\n# Fix the number of tosses at k.\nk = 10\n\n# Look at what happens if we run the experiment 1 through M times.\nM = 100\n\n# We will fill the list L with results of the coin experiment for k flips and t trials\nL = []\nfor t in range(1,M+1):\n    L.append(mean(coin_experiment(k,t)))\n\n# Now we plot\nplt.plot(list(range(1,M+1)),L); # Semicolon supresses some unnecessary output\n\n# Add axis labels:\nplt.ylabel('Mean')\nplt.xlabel('Number of trials')\n\nplt.show()"
         ],
         "outputs" : [],
         "metadata" : {},
         "cell_type" : "code",
         "execution_count" : 1
      },
      {
         "source" : [
            "Change the code to see what happens when the number of trials is fixed\n(say at 10), but the number of flips per trial runs between (say) 1\nand 100.  The plot should look quite different than what we got in the\nlast plot. How could your output be normalized to get comparable\ngraphs?\n\n"
         ],
         "cell_type" : "markdown",
         "metadata" : {}
      },
      {
         "source" : [
            "## Standard deviation\n\n"
         ],
         "metadata" : {},
         "cell_type" : "markdown"
      },
      {
         "source" : [
            "Let&rsquo;s write a function to compute the standard deviation of a\ndataset. Again this can be found in many packages, but write it\nfor yourself for practice.\n\nRecall that the standard deviation $\\sigma = \\sigma(X)$ of a dataset\n$X = \\{x_i\\}_{i=1}^N$ is given by $ &sigma; = \\left(\\frac{1}{N}\n&sum;<sub>i=1</sub><sup>N</sup> \\left(x<sub>i</sub> - &mu; \\right)<sup>2</sup> \\right)<sup>1/2</sup>, $ where $\\mu =\n\\mu(X)$ is the mean of $X$.\n\nWe will write our function by defining intermediate functions, then\ncombining them to get $\\sigma$. This **modular** style of programming is\ngood practice.  After all, the intermediate functions might be\ninteresting or useful in their own right.\n\nFirst define a function `delta` which centers the data on a fixed\nvalue.  This takes each data point and subtracts a chosen center.\n\n"
         ],
         "metadata" : {},
         "cell_type" : "markdown"
      },
      {
         "source" : [
            "def delta(data, center):\n    return [x - center for x in data]\n\nprint(delta([1,2,3],5), '== [-4, -3, -2]')"
         ],
         "outputs" : [],
         "cell_type" : "code",
         "metadata" : {},
         "execution_count" : 1
      },
      {
         "cell_type" : "markdown",
         "metadata" : {},
         "source" : [
            "Combine `delta` and `mean` to compute deviations from the mean.\n\n"
         ]
      },
      {
         "outputs" : [],
         "source" : [
            "def deviation(data):\n    raise Exception('You must implement derivation.')\n\nprint(deviation([1,4,10]), '== [-4, -1, 5]')"
         ],
         "execution_count" : 1,
         "metadata" : {},
         "cell_type" : "code"
      },
      {
         "metadata" : {},
         "cell_type" : "markdown",
         "source" : [
            "To compute the variance, we square the deviations, add, and divide by\nthe number of data points.\n\n"
         ]
      },
      {
         "outputs" : [],
         "source" : [
            "def variance(data):\n    return mean([x*x for x in deviation(data)])"
         ],
         "execution_count" : 1,
         "metadata" : {},
         "cell_type" : "code"
      },
      {
         "source" : [
            "Finally, the standard deviation is the square root of the variance.\n\n"
         ],
         "metadata" : {},
         "cell_type" : "markdown"
      },
      {
         "outputs" : [],
         "source" : [
            "import math\n\ndef stdev(data):\n    return math.sqrt(variance(data))"
         ],
         "execution_count" : 1,
         "metadata" : {},
         "cell_type" : "code"
      },
      {
         "cell_type" : "markdown",
         "metadata" : {},
         "source" : [
            "## Summary statistics for the coin tosses\n\n"
         ]
      },
      {
         "source" : [
            "Let&rsquo;s look at summary statistics for our coin toss simulation.\n\n"
         ],
         "metadata" : {},
         "cell_type" : "markdown"
      },
      {
         "metadata" : {},
         "cell_type" : "code",
         "execution_count" : 1,
         "source" : [
            "data = coin_experiment(100, 10)\nprint('mean', mean(data))\nprint('variance', variance(data))\nprint('stdev', stdev(data))\nprint('relstdev',stdev(data)/mean(data)) # 'Relative standard deviation'\""
         ],
         "outputs" : []
      },
      {
         "metadata" : {},
         "cell_type" : "markdown",
         "source" : [
            "Play with the &ldquo;number of tosses&rdquo; and &ldquo;number of trials&rdquo; parameters to\ndetermine the qualitative behavior of the relative standard deviation\nacross parameters. Create a plot to illustrate your findings.\n\n"
         ]
      }
   ]
}
