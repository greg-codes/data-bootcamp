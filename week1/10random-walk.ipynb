{
   "nbformat_minor" : 0,
   "metadata" : {
      "kernelspec" : {
         "name" : "python3",
         "language" : "python",
         "display_name" : "Python 3"
      },
      "language_info" : {
         "name" : "python",
         "version" : "3.5.2",
         "pygments_lexer" : "ipython3",
         "codemirror_mode" : {
            "version" : 3,
            "name" : "ipython"
         },
         "mimetype" : "text/x-python",
         "file_extension" : ".py",
         "nbconvert_exporter" : "python"
      },
      "org" : null
   },
   "nbformat" : 4,
   "cells" : [
      {
         "metadata" : {},
         "source" : [
            "## Random walks\n\n"
         ],
         "cell_type" : "markdown"
      },
      {
         "metadata" : {},
         "cell_type" : "markdown",
         "source" : [
            "For your homework today, you will explore **random walks** on your own.\n\n"
         ]
      },
      {
         "metadata" : {},
         "source" : [
            "### Build a biased coin\n\n"
         ],
         "cell_type" : "markdown"
      },
      {
         "metadata" : {},
         "cell_type" : "markdown",
         "source" : [
            "Create a new function `biased_coin(p)` which takes a probability $p\n\\in (0,1)$ that the coin flip is heads.\n\nBuild a `biased_coin_experiment` function akin to the previous\n`coin_experiment` and perform similar statistical calculations.\n\n"
         ]
      },
      {
         "metadata" : {},
         "cell_type" : "markdown",
         "source" : [
            "### Plot some random walks\n\n"
         ]
      },
      {
         "cell_type" : "markdown",
         "source" : [
            "Use the `biased_coin` function to define a 1-dimensional random\nwalk. That is, at each time step, the walker decides by the biased\ncoin flip whether to walk &rsquo;up&rsquo; or &rsquo;down&rsquo; along the $y$-axis.\n\nPlot several random walks over long spans of time (say 1000 steps) for\nvarious values of $p$.\n\nWhat qualitative behavior do you observe?\n\n"
         ],
         "metadata" : {}
      }
   ]
}
