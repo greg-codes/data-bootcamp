{
   "cells" : [
      {
         "metadata" : {},
         "cell_type" : "markdown",
         "source" : [
            "We&rsquo;ve already met numbers, strings, and lists, but Python provides\nother basic data types such as the *dictionary* which, in other\nlanguages, might be named an associative array.  Python dictionaries\nassociate *values* (either mutable or immutable) to keys (which must\nbe immutable).\n\n"
         ]
      },
      {
         "cell_type" : "markdown",
         "metadata" : {},
         "source" : [
            "## Creating dictionaries\n\n"
         ]
      },
      {
         "source" : [
            "{'cat': 17, 'dog': -15, 'turtle': 0}"
         ],
         "outputs" : [],
         "execution_count" : 1,
         "metadata" : {},
         "cell_type" : "code"
      },
      {
         "metadata" : {},
         "cell_type" : "markdown",
         "source" : [
            "There is the empty list `[]` and likewise the empty dictionary `{}`.\n\n"
         ]
      },
      {
         "execution_count" : 1,
         "metadata" : {},
         "cell_type" : "code",
         "source" : [
            "empty = {}"
         ],
         "outputs" : []
      },
      {
         "cell_type" : "markdown",
         "metadata" : {},
         "source" : [
            "## Operations on dictionaries\n\n"
         ]
      },
      {
         "source" : [
            "You can look-up values associated to a given key.\n\n"
         ],
         "metadata" : {},
         "cell_type" : "markdown"
      },
      {
         "source" : [
            "d = {'cat': 17, 'dog': -15, 'turtle': 0}\nd['turtle']"
         ],
         "outputs" : [],
         "metadata" : {},
         "cell_type" : "code",
         "execution_count" : 1
      },
      {
         "source" : [
            "What happens if you try to access a missing key?\n\n"
         ],
         "metadata" : {},
         "cell_type" : "markdown"
      },
      {
         "source" : [
            "d = {'cat': 17, 'dog': -15, 'turtle': 0}\nprint(d['purple'])"
         ],
         "outputs" : [],
         "execution_count" : 1,
         "metadata" : {},
         "cell_type" : "code"
      },
      {
         "cell_type" : "markdown",
         "metadata" : {},
         "source" : [
            "Contrast that with the result of using `get`.\n\n"
         ]
      },
      {
         "cell_type" : "code",
         "metadata" : {},
         "execution_count" : 1,
         "outputs" : [],
         "source" : [
            "d = {'cat': 17, 'dog': -15, 'turtle': 0}\nprint(d.get('purple'))"
         ]
      },
      {
         "cell_type" : "markdown",
         "metadata" : {},
         "source" : [
            "In what cases would you prefer `get`?\n\nDictionaries are mutable.\n\n"
         ]
      },
      {
         "source" : [
            "d = {'cat': 17, 'dog': -15, 'turtle': 0, 'fish': 100}\nprint(d['cat'])\nd['cat'] = 1000\nprint(d)"
         ],
         "outputs" : [],
         "execution_count" : 1,
         "metadata" : {},
         "cell_type" : "code"
      },
      {
         "metadata" : {},
         "cell_type" : "markdown",
         "source" : [
            "You can remove items.\n\n"
         ]
      },
      {
         "metadata" : {},
         "cell_type" : "code",
         "execution_count" : 1,
         "source" : [
            "del d['fish']\nd"
         ],
         "outputs" : []
      },
      {
         "source" : [
            "Can you describe when two dictionaries are equal?\n\n"
         ],
         "metadata" : {},
         "cell_type" : "markdown"
      },
      {
         "source" : [
            "e = {}\ne['cat'] = 1000\ne['dog'] = -15\ne['turtle'] = 0\ne == d"
         ],
         "outputs" : [],
         "metadata" : {},
         "cell_type" : "code",
         "execution_count" : 1
      },
      {
         "source" : [
            "## Some methods\n\n"
         ],
         "cell_type" : "markdown",
         "metadata" : {}
      },
      {
         "source" : [
            "What happens when you call the `keys` method on a dictionary?  Why do I wrap this in `list`?\n\n"
         ],
         "cell_type" : "markdown",
         "metadata" : {}
      },
      {
         "metadata" : {},
         "cell_type" : "code",
         "execution_count" : 1,
         "source" : [
            "list(d.keys())"
         ],
         "outputs" : []
      },
      {
         "cell_type" : "code",
         "metadata" : {},
         "execution_count" : 1,
         "outputs" : [],
         "source" : [
            "list(d.values())"
         ]
      },
      {
         "source" : [
            "list(d.items())"
         ],
         "outputs" : [],
         "metadata" : {},
         "cell_type" : "code",
         "execution_count" : 1
      },
      {
         "cell_type" : "markdown",
         "metadata" : {},
         "source" : [
            "We met `get` earlier, but there is more to `get`.  For instance, there\nis a facility for including default values instead of `None`.\n\n"
         ]
      },
      {
         "outputs" : [],
         "source" : [
            "d = {'cat': 17, 'dog': -15, 'turtle': 0}\nprint(d.get('cat',-1))\nprint(d.get('purple',-1))"
         ],
         "cell_type" : "code",
         "metadata" : {},
         "execution_count" : 1
      },
      {
         "source" : [
            "There is also `pop`.\n\n"
         ],
         "metadata" : {},
         "cell_type" : "markdown"
      },
      {
         "outputs" : [],
         "source" : [
            "d = {'cat': 17, 'dog': -15, 'turtle': 0}\nprint(d)\nprint(d.pop('cat'))\nprint(d)"
         ],
         "cell_type" : "code",
         "metadata" : {},
         "execution_count" : 1
      },
      {
         "metadata" : {},
         "cell_type" : "markdown",
         "source" : [
            "Finally, you can merge two dictionaries with `update`.\n\n"
         ]
      },
      {
         "cell_type" : "code",
         "metadata" : {},
         "execution_count" : 1,
         "outputs" : [],
         "source" : [
            "d1 = {'cat': 17, 'dog': -15, 'turtle': 0}\nd2 = {'cow': 1, 'sheep': 16}\nprint(d1,d2)\nd1.update(d2)\nprint(d1,d2)"
         ]
      }
   ],
   "nbformat" : 4,
   "metadata" : {
      "language_info" : {
         "nbconvert_exporter" : "python",
         "mimetype" : "text/x-python",
         "pygments_lexer" : "ipython3",
         "name" : "python",
         "version" : "3.5.2",
         "file_extension" : ".py",
         "codemirror_mode" : {
            "name" : "ipython",
            "version" : 3
         }
      },
      "kernelspec" : {
         "display_name" : "Python 3",
         "language" : "python",
         "name" : "python3"
      },
      "org" : null
   },
   "nbformat_minor" : 0
}
